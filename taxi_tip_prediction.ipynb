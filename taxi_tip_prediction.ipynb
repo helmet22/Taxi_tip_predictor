{
 "cells": [
  {
   "cell_type": "code",
   "execution_count": 182,
   "id": "a8379df4",
   "metadata": {},
   "outputs": [
    {
     "name": "stdout",
     "output_type": "stream",
     "text": [
      "Requirement already satisfied: snapml in d:\\users\\amit\\anaconda\\lib\\site-packages (1.14.0)\n",
      "Requirement already satisfied: scikit-learn in d:\\users\\amit\\anaconda\\lib\\site-packages (from snapml) (1.2.1)\n",
      "Requirement already satisfied: numpy>=1.21.3 in d:\\users\\amit\\anaconda\\lib\\site-packages (from snapml) (1.23.5)\n",
      "Requirement already satisfied: scipy in d:\\users\\amit\\anaconda\\lib\\site-packages (from snapml) (1.10.0)\n",
      "Requirement already satisfied: joblib>=1.1.1 in d:\\users\\amit\\anaconda\\lib\\site-packages (from scikit-learn->snapml) (1.1.1)\n",
      "Requirement already satisfied: threadpoolctl>=2.0.0 in d:\\users\\amit\\anaconda\\lib\\site-packages (from scikit-learn->snapml) (2.2.0)\n",
      "Note: you may need to restart the kernel to use updated packages.\n"
     ]
    }
   ],
   "source": [
    "pip install snapml\n"
   ]
  },
  {
   "cell_type": "code",
   "execution_count": 183,
   "id": "e432c2a3",
   "metadata": {},
   "outputs": [],
   "source": [
    "from __future__ import print_function\n",
    "from tqdm import tqdm"
   ]
  },
  {
   "cell_type": "code",
   "execution_count": 184,
   "id": "ad3087e4",
   "metadata": {},
   "outputs": [],
   "source": [
    "# for ignoring the errors and warnings \n",
    "def warn(*args,**kwargs):\n",
    "    pass \n",
    "import warnings \n",
    "warnings.warn = warn\n",
    "warnings.filterwarnings('ignore')\n",
    "\n",
    "# importings important libraries\n",
    "import pandas as pd \n",
    "import numpy as np\n",
    "import seaborn as sns \n",
    "from sklearn.model_selection import train_test_split\n",
    "from sklearn.preprocessing import Normalizer,StandardScaler,MinMaxScaler\n",
    "from sklearn.utils.class_weight import compute_sample_weight\n",
    "from sklearn.metrics import mean_squared_error\n",
    "import time\n",
    "import warnings \n",
    "import gc,sys\n"
   ]
  },
  {
   "cell_type": "code",
   "execution_count": 185,
   "id": "b2f0c484",
   "metadata": {},
   "outputs": [],
   "source": [
    "\n",
    "sns.set_context('notebook')\n",
    "sns.set_style('white')"
   ]
  },
  {
   "cell_type": "code",
   "execution_count": 186,
   "id": "0cd388ca",
   "metadata": {},
   "outputs": [
    {
     "name": "stdout",
     "output_type": "stream",
     "text": [
      "Requirement already satisfied: skillsnetwork in d:\\users\\amit\\anaconda\\lib\\site-packages (0.20.6)\n",
      "Requirement already satisfied: ipywidgets<8,>=7 in d:\\users\\amit\\anaconda\\lib\\site-packages (from skillsnetwork) (7.6.5)\n",
      "Requirement already satisfied: requests<3,>=2 in d:\\users\\amit\\anaconda\\lib\\site-packages (from skillsnetwork) (2.28.1)\n",
      "Requirement already satisfied: tqdm<5,>=4 in d:\\users\\amit\\anaconda\\lib\\site-packages (from skillsnetwork) (4.64.1)\n",
      "Requirement already satisfied: ipython in d:\\users\\amit\\anaconda\\lib\\site-packages (from skillsnetwork) (8.10.0)\n",
      "Requirement already satisfied: traitlets>=4.3.1 in d:\\users\\amit\\anaconda\\lib\\site-packages (from ipywidgets<8,>=7->skillsnetwork) (5.7.1)\n",
      "Requirement already satisfied: widgetsnbextension~=3.5.0 in d:\\users\\amit\\anaconda\\lib\\site-packages (from ipywidgets<8,>=7->skillsnetwork) (3.5.2)\n",
      "Requirement already satisfied: ipython-genutils~=0.2.0 in d:\\users\\amit\\anaconda\\lib\\site-packages (from ipywidgets<8,>=7->skillsnetwork) (0.2.0)\n",
      "Requirement already satisfied: ipykernel>=4.5.1 in d:\\users\\amit\\anaconda\\lib\\site-packages (from ipywidgets<8,>=7->skillsnetwork) (6.19.2)\n",
      "Requirement already satisfied: jupyterlab-widgets>=1.0.0 in d:\\users\\amit\\anaconda\\lib\\site-packages (from ipywidgets<8,>=7->skillsnetwork) (1.0.0)\n",
      "Requirement already satisfied: nbformat>=4.2.0 in d:\\users\\amit\\anaconda\\lib\\site-packages (from ipywidgets<8,>=7->skillsnetwork) (5.7.0)\n",
      "Requirement already satisfied: pygments>=2.4.0 in d:\\users\\amit\\anaconda\\lib\\site-packages (from ipython->skillsnetwork) (2.11.2)\n",
      "Requirement already satisfied: stack-data in d:\\users\\amit\\anaconda\\lib\\site-packages (from ipython->skillsnetwork) (0.2.0)\n",
      "Requirement already satisfied: colorama in d:\\users\\amit\\anaconda\\lib\\site-packages (from ipython->skillsnetwork) (0.4.6)\n",
      "Requirement already satisfied: matplotlib-inline in d:\\users\\amit\\anaconda\\lib\\site-packages (from ipython->skillsnetwork) (0.1.6)\n",
      "Requirement already satisfied: backcall in d:\\users\\amit\\anaconda\\lib\\site-packages (from ipython->skillsnetwork) (0.2.0)\n",
      "Requirement already satisfied: jedi>=0.16 in d:\\users\\amit\\anaconda\\lib\\site-packages (from ipython->skillsnetwork) (0.18.1)\n",
      "Requirement already satisfied: prompt-toolkit<3.1.0,>=3.0.30 in d:\\users\\amit\\anaconda\\lib\\site-packages (from ipython->skillsnetwork) (3.0.36)\n",
      "Requirement already satisfied: pickleshare in d:\\users\\amit\\anaconda\\lib\\site-packages (from ipython->skillsnetwork) (0.7.5)\n",
      "Requirement already satisfied: decorator in d:\\users\\amit\\anaconda\\lib\\site-packages (from ipython->skillsnetwork) (5.1.1)\n",
      "Requirement already satisfied: charset-normalizer<3,>=2 in d:\\users\\amit\\anaconda\\lib\\site-packages (from requests<3,>=2->skillsnetwork) (2.0.4)\n",
      "Requirement already satisfied: idna<4,>=2.5 in d:\\users\\amit\\anaconda\\lib\\site-packages (from requests<3,>=2->skillsnetwork) (3.4)\n",
      "Requirement already satisfied: certifi>=2017.4.17 in d:\\users\\amit\\anaconda\\lib\\site-packages (from requests<3,>=2->skillsnetwork) (2022.12.7)\n",
      "Requirement already satisfied: urllib3<1.27,>=1.21.1 in d:\\users\\amit\\anaconda\\lib\\site-packages (from requests<3,>=2->skillsnetwork) (1.26.14)\n",
      "Requirement already satisfied: jupyter-client>=6.1.12 in d:\\users\\amit\\anaconda\\lib\\site-packages (from ipykernel>=4.5.1->ipywidgets<8,>=7->skillsnetwork) (7.3.4)\n",
      "Requirement already satisfied: packaging in d:\\users\\amit\\anaconda\\lib\\site-packages (from ipykernel>=4.5.1->ipywidgets<8,>=7->skillsnetwork) (22.0)\n",
      "Requirement already satisfied: tornado>=6.1 in d:\\users\\amit\\anaconda\\lib\\site-packages (from ipykernel>=4.5.1->ipywidgets<8,>=7->skillsnetwork) (6.1)\n",
      "Requirement already satisfied: comm>=0.1.1 in d:\\users\\amit\\anaconda\\lib\\site-packages (from ipykernel>=4.5.1->ipywidgets<8,>=7->skillsnetwork) (0.1.2)\n",
      "Requirement already satisfied: pyzmq>=17 in d:\\users\\amit\\anaconda\\lib\\site-packages (from ipykernel>=4.5.1->ipywidgets<8,>=7->skillsnetwork) (23.2.0)\n",
      "Requirement already satisfied: nest-asyncio in d:\\users\\amit\\anaconda\\lib\\site-packages (from ipykernel>=4.5.1->ipywidgets<8,>=7->skillsnetwork) (1.5.6)\n",
      "Requirement already satisfied: debugpy>=1.0 in d:\\users\\amit\\anaconda\\lib\\site-packages (from ipykernel>=4.5.1->ipywidgets<8,>=7->skillsnetwork) (1.5.1)\n",
      "Requirement already satisfied: psutil in d:\\users\\amit\\anaconda\\lib\\site-packages (from ipykernel>=4.5.1->ipywidgets<8,>=7->skillsnetwork) (5.9.0)\n",
      "Requirement already satisfied: parso<0.9.0,>=0.8.0 in d:\\users\\amit\\anaconda\\lib\\site-packages (from jedi>=0.16->ipython->skillsnetwork) (0.8.3)\n",
      "Requirement already satisfied: fastjsonschema in d:\\users\\amit\\anaconda\\lib\\site-packages (from nbformat>=4.2.0->ipywidgets<8,>=7->skillsnetwork) (2.16.2)\n",
      "Requirement already satisfied: jupyter-core in d:\\users\\amit\\anaconda\\lib\\site-packages (from nbformat>=4.2.0->ipywidgets<8,>=7->skillsnetwork) (5.2.0)\n",
      "Requirement already satisfied: jsonschema>=2.6 in d:\\users\\amit\\anaconda\\lib\\site-packages (from nbformat>=4.2.0->ipywidgets<8,>=7->skillsnetwork) (4.17.3)\n",
      "Requirement already satisfied: wcwidth in d:\\users\\amit\\anaconda\\lib\\site-packages (from prompt-toolkit<3.1.0,>=3.0.30->ipython->skillsnetwork) (0.2.5)\n",
      "Requirement already satisfied: notebook>=4.4.1 in d:\\users\\amit\\anaconda\\lib\\site-packages (from widgetsnbextension~=3.5.0->ipywidgets<8,>=7->skillsnetwork) (6.5.2)\n",
      "Requirement already satisfied: asttokens in d:\\users\\amit\\anaconda\\lib\\site-packages (from stack-data->ipython->skillsnetwork) (2.0.5)\n",
      "Requirement already satisfied: executing in d:\\users\\amit\\anaconda\\lib\\site-packages (from stack-data->ipython->skillsnetwork) (0.8.3)\n",
      "Requirement already satisfied: pure-eval in d:\\users\\amit\\anaconda\\lib\\site-packages (from stack-data->ipython->skillsnetwork) (0.2.2)\n",
      "Requirement already satisfied: attrs>=17.4.0 in d:\\users\\amit\\anaconda\\lib\\site-packages (from jsonschema>=2.6->nbformat>=4.2.0->ipywidgets<8,>=7->skillsnetwork) (22.1.0)\n",
      "Requirement already satisfied: pyrsistent!=0.17.0,!=0.17.1,!=0.17.2,>=0.14.0 in d:\\users\\amit\\anaconda\\lib\\site-packages (from jsonschema>=2.6->nbformat>=4.2.0->ipywidgets<8,>=7->skillsnetwork) (0.18.0)\n",
      "Requirement already satisfied: python-dateutil>=2.8.2 in d:\\users\\amit\\anaconda\\lib\\site-packages (from jupyter-client>=6.1.12->ipykernel>=4.5.1->ipywidgets<8,>=7->skillsnetwork) (2.8.2)\n",
      "Requirement already satisfied: entrypoints in d:\\users\\amit\\anaconda\\lib\\site-packages (from jupyter-client>=6.1.12->ipykernel>=4.5.1->ipywidgets<8,>=7->skillsnetwork) (0.4)\n",
      "Requirement already satisfied: platformdirs>=2.5 in d:\\users\\amit\\anaconda\\lib\\site-packages (from jupyter-core->nbformat>=4.2.0->ipywidgets<8,>=7->skillsnetwork) (2.5.2)\n",
      "Requirement already satisfied: pywin32>=1.0 in d:\\users\\amit\\anaconda\\lib\\site-packages (from jupyter-core->nbformat>=4.2.0->ipywidgets<8,>=7->skillsnetwork) (305.1)\n",
      "Requirement already satisfied: nbconvert>=5 in d:\\users\\amit\\anaconda\\lib\\site-packages (from notebook>=4.4.1->widgetsnbextension~=3.5.0->ipywidgets<8,>=7->skillsnetwork) (6.5.4)\n",
      "Requirement already satisfied: Send2Trash>=1.8.0 in d:\\users\\amit\\anaconda\\lib\\site-packages (from notebook>=4.4.1->widgetsnbextension~=3.5.0->ipywidgets<8,>=7->skillsnetwork) (1.8.0)\n",
      "Requirement already satisfied: jinja2 in d:\\users\\amit\\anaconda\\lib\\site-packages (from notebook>=4.4.1->widgetsnbextension~=3.5.0->ipywidgets<8,>=7->skillsnetwork) (3.1.2)\n",
      "Requirement already satisfied: argon2-cffi in d:\\users\\amit\\anaconda\\lib\\site-packages (from notebook>=4.4.1->widgetsnbextension~=3.5.0->ipywidgets<8,>=7->skillsnetwork) (21.3.0)\n",
      "Requirement already satisfied: terminado>=0.8.3 in d:\\users\\amit\\anaconda\\lib\\site-packages (from notebook>=4.4.1->widgetsnbextension~=3.5.0->ipywidgets<8,>=7->skillsnetwork) (0.17.1)\n",
      "Requirement already satisfied: nbclassic>=0.4.7 in d:\\users\\amit\\anaconda\\lib\\site-packages (from notebook>=4.4.1->widgetsnbextension~=3.5.0->ipywidgets<8,>=7->skillsnetwork) (0.5.2)\n",
      "Requirement already satisfied: prometheus-client in d:\\users\\amit\\anaconda\\lib\\site-packages (from notebook>=4.4.1->widgetsnbextension~=3.5.0->ipywidgets<8,>=7->skillsnetwork) (0.14.1)\n",
      "Requirement already satisfied: six in d:\\users\\amit\\anaconda\\lib\\site-packages (from asttokens->stack-data->ipython->skillsnetwork) (1.16.0)\n",
      "Requirement already satisfied: notebook-shim>=0.1.0 in d:\\users\\amit\\anaconda\\lib\\site-packages (from nbclassic>=0.4.7->notebook>=4.4.1->widgetsnbextension~=3.5.0->ipywidgets<8,>=7->skillsnetwork) (0.2.2)\n",
      "Requirement already satisfied: jupyter-server>=1.8 in d:\\users\\amit\\anaconda\\lib\\site-packages (from nbclassic>=0.4.7->notebook>=4.4.1->widgetsnbextension~=3.5.0->ipywidgets<8,>=7->skillsnetwork) (1.23.4)\n",
      "Requirement already satisfied: beautifulsoup4 in d:\\users\\amit\\anaconda\\lib\\site-packages (from nbconvert>=5->notebook>=4.4.1->widgetsnbextension~=3.5.0->ipywidgets<8,>=7->skillsnetwork) (4.11.1)\n",
      "Requirement already satisfied: MarkupSafe>=2.0 in d:\\users\\amit\\anaconda\\lib\\site-packages (from nbconvert>=5->notebook>=4.4.1->widgetsnbextension~=3.5.0->ipywidgets<8,>=7->skillsnetwork) (2.1.1)\n",
      "Requirement already satisfied: mistune<2,>=0.8.1 in d:\\users\\amit\\anaconda\\lib\\site-packages (from nbconvert>=5->notebook>=4.4.1->widgetsnbextension~=3.5.0->ipywidgets<8,>=7->skillsnetwork) (0.8.4)\n",
      "Requirement already satisfied: pandocfilters>=1.4.1 in d:\\users\\amit\\anaconda\\lib\\site-packages (from nbconvert>=5->notebook>=4.4.1->widgetsnbextension~=3.5.0->ipywidgets<8,>=7->skillsnetwork) (1.5.0)\n",
      "Requirement already satisfied: lxml in d:\\users\\amit\\anaconda\\lib\\site-packages (from nbconvert>=5->notebook>=4.4.1->widgetsnbextension~=3.5.0->ipywidgets<8,>=7->skillsnetwork) (4.9.1)\n",
      "Requirement already satisfied: jupyterlab-pygments in d:\\users\\amit\\anaconda\\lib\\site-packages (from nbconvert>=5->notebook>=4.4.1->widgetsnbextension~=3.5.0->ipywidgets<8,>=7->skillsnetwork) (0.1.2)\n",
      "Requirement already satisfied: bleach in d:\\users\\amit\\anaconda\\lib\\site-packages (from nbconvert>=5->notebook>=4.4.1->widgetsnbextension~=3.5.0->ipywidgets<8,>=7->skillsnetwork) (4.1.0)\n",
      "Requirement already satisfied: defusedxml in d:\\users\\amit\\anaconda\\lib\\site-packages (from nbconvert>=5->notebook>=4.4.1->widgetsnbextension~=3.5.0->ipywidgets<8,>=7->skillsnetwork) (0.7.1)\n",
      "Requirement already satisfied: nbclient>=0.5.0 in d:\\users\\amit\\anaconda\\lib\\site-packages (from nbconvert>=5->notebook>=4.4.1->widgetsnbextension~=3.5.0->ipywidgets<8,>=7->skillsnetwork) (0.5.13)\n",
      "Requirement already satisfied: tinycss2 in d:\\users\\amit\\anaconda\\lib\\site-packages (from nbconvert>=5->notebook>=4.4.1->widgetsnbextension~=3.5.0->ipywidgets<8,>=7->skillsnetwork) (1.2.1)\n",
      "Requirement already satisfied: pywinpty>=1.1.0 in d:\\users\\amit\\anaconda\\lib\\site-packages (from terminado>=0.8.3->notebook>=4.4.1->widgetsnbextension~=3.5.0->ipywidgets<8,>=7->skillsnetwork) (2.0.10)\n",
      "Requirement already satisfied: argon2-cffi-bindings in d:\\users\\amit\\anaconda\\lib\\site-packages (from argon2-cffi->notebook>=4.4.1->widgetsnbextension~=3.5.0->ipywidgets<8,>=7->skillsnetwork) (21.2.0)\n",
      "Requirement already satisfied: websocket-client in d:\\users\\amit\\anaconda\\lib\\site-packages (from jupyter-server>=1.8->nbclassic>=0.4.7->notebook>=4.4.1->widgetsnbextension~=3.5.0->ipywidgets<8,>=7->skillsnetwork) (0.58.0)\n",
      "Requirement already satisfied: anyio<4,>=3.1.0 in d:\\users\\amit\\anaconda\\lib\\site-packages (from jupyter-server>=1.8->nbclassic>=0.4.7->notebook>=4.4.1->widgetsnbextension~=3.5.0->ipywidgets<8,>=7->skillsnetwork) (3.5.0)\n",
      "Requirement already satisfied: cffi>=1.0.1 in d:\\users\\amit\\anaconda\\lib\\site-packages (from argon2-cffi-bindings->argon2-cffi->notebook>=4.4.1->widgetsnbextension~=3.5.0->ipywidgets<8,>=7->skillsnetwork) (1.15.1)\n",
      "Requirement already satisfied: soupsieve>1.2 in d:\\users\\amit\\anaconda\\lib\\site-packages (from beautifulsoup4->nbconvert>=5->notebook>=4.4.1->widgetsnbextension~=3.5.0->ipywidgets<8,>=7->skillsnetwork) (2.3.2.post1)\n",
      "Requirement already satisfied: webencodings in d:\\users\\amit\\anaconda\\lib\\site-packages (from bleach->nbconvert>=5->notebook>=4.4.1->widgetsnbextension~=3.5.0->ipywidgets<8,>=7->skillsnetwork) (0.5.1)\n",
      "Requirement already satisfied: sniffio>=1.1 in d:\\users\\amit\\anaconda\\lib\\site-packages (from anyio<4,>=3.1.0->jupyter-server>=1.8->nbclassic>=0.4.7->notebook>=4.4.1->widgetsnbextension~=3.5.0->ipywidgets<8,>=7->skillsnetwork) (1.2.0)\n",
      "Requirement already satisfied: pycparser in d:\\users\\amit\\anaconda\\lib\\site-packages (from cffi>=1.0.1->argon2-cffi-bindings->argon2-cffi->notebook>=4.4.1->widgetsnbextension~=3.5.0->ipywidgets<8,>=7->skillsnetwork) (2.21)\n",
      "Note: you may need to restart the kernel to use updated packages.\n"
     ]
    }
   ],
   "source": [
    "pip install skillsnetwork"
   ]
  },
  {
   "cell_type": "code",
   "execution_count": 187,
   "id": "61a59974",
   "metadata": {},
   "outputs": [],
   "source": [
    "df =pd.read_csv('yellow_tripdata_2019-06_1M.csv')\n"
   ]
  },
  {
   "cell_type": "code",
   "execution_count": 188,
   "id": "e77ba548",
   "metadata": {},
   "outputs": [
    {
     "name": "stdout",
     "output_type": "stream",
     "text": [
      "There are 1000000 observations in the dataset.\n",
      "There are 19 variables in the dataset\n"
     ]
    }
   ],
   "source": [
    "print(\"There are \"+ str(len(df))+\" observations in the dataset.\")\n",
    "print(\"There are \"+ str(len(df.columns))+\" variables in the dataset\")\n"
   ]
  },
  {
   "cell_type": "code",
   "execution_count": 189,
   "id": "cae263ee",
   "metadata": {},
   "outputs": [
    {
     "data": {
      "text/plain": [
       "(1000000, 19)"
      ]
     },
     "execution_count": 189,
     "metadata": {},
     "output_type": "execute_result"
    }
   ],
   "source": [
    "df.shape"
   ]
  },
  {
   "cell_type": "code",
   "execution_count": 190,
   "id": "144877a3",
   "metadata": {},
   "outputs": [
    {
     "data": {
      "text/html": [
       "<div>\n",
       "<style scoped>\n",
       "    .dataframe tbody tr th:only-of-type {\n",
       "        vertical-align: middle;\n",
       "    }\n",
       "\n",
       "    .dataframe tbody tr th {\n",
       "        vertical-align: top;\n",
       "    }\n",
       "\n",
       "    .dataframe thead th {\n",
       "        text-align: right;\n",
       "    }\n",
       "</style>\n",
       "<table border=\"1\" class=\"dataframe\">\n",
       "  <thead>\n",
       "    <tr style=\"text-align: right;\">\n",
       "      <th></th>\n",
       "      <th>VendorID</th>\n",
       "      <th>tpep_pickup_datetime</th>\n",
       "      <th>tpep_dropoff_datetime</th>\n",
       "      <th>passenger_count</th>\n",
       "      <th>trip_distance</th>\n",
       "      <th>RatecodeID</th>\n",
       "      <th>store_and_fwd_flag</th>\n",
       "      <th>PULocationID</th>\n",
       "      <th>DOLocationID</th>\n",
       "      <th>payment_type</th>\n",
       "      <th>fare_amount</th>\n",
       "      <th>extra</th>\n",
       "      <th>mta_tax</th>\n",
       "      <th>tip_amount</th>\n",
       "      <th>tolls_amount</th>\n",
       "      <th>improvement_surcharge</th>\n",
       "      <th>total_amount</th>\n",
       "      <th>congestion_surcharge</th>\n",
       "      <th>airport_fee</th>\n",
       "    </tr>\n",
       "  </thead>\n",
       "  <tbody>\n",
       "    <tr>\n",
       "      <th>0</th>\n",
       "      <td>1</td>\n",
       "      <td>2019-06-01 0:55</td>\n",
       "      <td>2019-06-01 0:56</td>\n",
       "      <td>1</td>\n",
       "      <td>0.0</td>\n",
       "      <td>1</td>\n",
       "      <td>N</td>\n",
       "      <td>145</td>\n",
       "      <td>145</td>\n",
       "      <td>2</td>\n",
       "      <td>3.0</td>\n",
       "      <td>0.5</td>\n",
       "      <td>0.5</td>\n",
       "      <td>0.00</td>\n",
       "      <td>0.0</td>\n",
       "      <td>0.3</td>\n",
       "      <td>4.30</td>\n",
       "      <td>0.0</td>\n",
       "      <td>NaN</td>\n",
       "    </tr>\n",
       "    <tr>\n",
       "      <th>1</th>\n",
       "      <td>1</td>\n",
       "      <td>2019-06-01 0:06</td>\n",
       "      <td>2019-06-01 0:06</td>\n",
       "      <td>1</td>\n",
       "      <td>0.0</td>\n",
       "      <td>1</td>\n",
       "      <td>N</td>\n",
       "      <td>262</td>\n",
       "      <td>263</td>\n",
       "      <td>2</td>\n",
       "      <td>2.5</td>\n",
       "      <td>3.0</td>\n",
       "      <td>0.5</td>\n",
       "      <td>0.00</td>\n",
       "      <td>0.0</td>\n",
       "      <td>0.3</td>\n",
       "      <td>6.30</td>\n",
       "      <td>2.5</td>\n",
       "      <td>NaN</td>\n",
       "    </tr>\n",
       "    <tr>\n",
       "      <th>2</th>\n",
       "      <td>1</td>\n",
       "      <td>2019-06-01 0:17</td>\n",
       "      <td>2019-06-01 0:36</td>\n",
       "      <td>1</td>\n",
       "      <td>4.4</td>\n",
       "      <td>1</td>\n",
       "      <td>N</td>\n",
       "      <td>74</td>\n",
       "      <td>7</td>\n",
       "      <td>2</td>\n",
       "      <td>17.5</td>\n",
       "      <td>0.5</td>\n",
       "      <td>0.5</td>\n",
       "      <td>0.00</td>\n",
       "      <td>0.0</td>\n",
       "      <td>0.3</td>\n",
       "      <td>18.80</td>\n",
       "      <td>0.0</td>\n",
       "      <td>NaN</td>\n",
       "    </tr>\n",
       "    <tr>\n",
       "      <th>3</th>\n",
       "      <td>1</td>\n",
       "      <td>2019-06-01 0:59</td>\n",
       "      <td>2019-06-01 0:59</td>\n",
       "      <td>0</td>\n",
       "      <td>0.8</td>\n",
       "      <td>1</td>\n",
       "      <td>N</td>\n",
       "      <td>145</td>\n",
       "      <td>145</td>\n",
       "      <td>2</td>\n",
       "      <td>2.5</td>\n",
       "      <td>1.0</td>\n",
       "      <td>0.5</td>\n",
       "      <td>0.00</td>\n",
       "      <td>0.0</td>\n",
       "      <td>0.3</td>\n",
       "      <td>4.30</td>\n",
       "      <td>0.0</td>\n",
       "      <td>NaN</td>\n",
       "    </tr>\n",
       "    <tr>\n",
       "      <th>4</th>\n",
       "      <td>1</td>\n",
       "      <td>2019-06-01 0:03</td>\n",
       "      <td>2019-06-01 0:15</td>\n",
       "      <td>1</td>\n",
       "      <td>1.7</td>\n",
       "      <td>1</td>\n",
       "      <td>N</td>\n",
       "      <td>113</td>\n",
       "      <td>148</td>\n",
       "      <td>1</td>\n",
       "      <td>9.5</td>\n",
       "      <td>3.0</td>\n",
       "      <td>0.5</td>\n",
       "      <td>2.65</td>\n",
       "      <td>0.0</td>\n",
       "      <td>0.3</td>\n",
       "      <td>15.95</td>\n",
       "      <td>2.5</td>\n",
       "      <td>NaN</td>\n",
       "    </tr>\n",
       "  </tbody>\n",
       "</table>\n",
       "</div>"
      ],
      "text/plain": [
       "   VendorID tpep_pickup_datetime tpep_dropoff_datetime  passenger_count  \\\n",
       "0         1      2019-06-01 0:55       2019-06-01 0:56                1   \n",
       "1         1      2019-06-01 0:06       2019-06-01 0:06                1   \n",
       "2         1      2019-06-01 0:17       2019-06-01 0:36                1   \n",
       "3         1      2019-06-01 0:59       2019-06-01 0:59                0   \n",
       "4         1      2019-06-01 0:03       2019-06-01 0:15                1   \n",
       "\n",
       "   trip_distance  RatecodeID store_and_fwd_flag  PULocationID  DOLocationID  \\\n",
       "0            0.0           1                  N           145           145   \n",
       "1            0.0           1                  N           262           263   \n",
       "2            4.4           1                  N            74             7   \n",
       "3            0.8           1                  N           145           145   \n",
       "4            1.7           1                  N           113           148   \n",
       "\n",
       "   payment_type  fare_amount  extra  mta_tax  tip_amount  tolls_amount  \\\n",
       "0             2          3.0    0.5      0.5        0.00           0.0   \n",
       "1             2          2.5    3.0      0.5        0.00           0.0   \n",
       "2             2         17.5    0.5      0.5        0.00           0.0   \n",
       "3             2          2.5    1.0      0.5        0.00           0.0   \n",
       "4             1          9.5    3.0      0.5        2.65           0.0   \n",
       "\n",
       "   improvement_surcharge  total_amount  congestion_surcharge  airport_fee  \n",
       "0                    0.3          4.30                   0.0          NaN  \n",
       "1                    0.3          6.30                   2.5          NaN  \n",
       "2                    0.3         18.80                   0.0          NaN  \n",
       "3                    0.3          4.30                   0.0          NaN  \n",
       "4                    0.3         15.95                   2.5          NaN  "
      ]
     },
     "execution_count": 190,
     "metadata": {},
     "output_type": "execute_result"
    }
   ],
   "source": [
    "df.head()"
   ]
  },
  {
   "cell_type": "code",
   "execution_count": 191,
   "id": "01ae3e2d",
   "metadata": {},
   "outputs": [],
   "source": [
    "df = df[df['tip_amount']>0]"
   ]
  },
  {
   "cell_type": "code",
   "execution_count": 192,
   "id": "d9e5cbab",
   "metadata": {},
   "outputs": [],
   "source": [
    "# we also to drop those tip amount which is more  than the fare amount \n",
    "df = df[df['tip_amount']<df['fare_amount']]"
   ]
  },
  {
   "cell_type": "code",
   "execution_count": 193,
   "id": "66638223",
   "metadata": {},
   "outputs": [
    {
     "data": {
      "text/plain": [
       "(682480, 19)"
      ]
     },
     "execution_count": 193,
     "metadata": {},
     "output_type": "execute_result"
    }
   ],
   "source": [
    "df.shape\n"
   ]
  },
  {
   "cell_type": "code",
   "execution_count": 194,
   "id": "f37a4b51",
   "metadata": {},
   "outputs": [],
   "source": [
    "df = df.drop(['store_and_fwd_flag','airport_fee'],axis=1)"
   ]
  },
  {
   "cell_type": "code",
   "execution_count": 195,
   "id": "359ceef5",
   "metadata": {},
   "outputs": [
    {
     "data": {
      "text/html": [
       "<div>\n",
       "<style scoped>\n",
       "    .dataframe tbody tr th:only-of-type {\n",
       "        vertical-align: middle;\n",
       "    }\n",
       "\n",
       "    .dataframe tbody tr th {\n",
       "        vertical-align: top;\n",
       "    }\n",
       "\n",
       "    .dataframe thead th {\n",
       "        text-align: right;\n",
       "    }\n",
       "</style>\n",
       "<table border=\"1\" class=\"dataframe\">\n",
       "  <thead>\n",
       "    <tr style=\"text-align: right;\">\n",
       "      <th></th>\n",
       "      <th>VendorID</th>\n",
       "      <th>tpep_pickup_datetime</th>\n",
       "      <th>tpep_dropoff_datetime</th>\n",
       "      <th>passenger_count</th>\n",
       "      <th>trip_distance</th>\n",
       "      <th>RatecodeID</th>\n",
       "      <th>PULocationID</th>\n",
       "      <th>DOLocationID</th>\n",
       "      <th>payment_type</th>\n",
       "      <th>fare_amount</th>\n",
       "      <th>extra</th>\n",
       "      <th>mta_tax</th>\n",
       "      <th>tip_amount</th>\n",
       "      <th>tolls_amount</th>\n",
       "      <th>improvement_surcharge</th>\n",
       "      <th>total_amount</th>\n",
       "      <th>congestion_surcharge</th>\n",
       "    </tr>\n",
       "  </thead>\n",
       "  <tbody>\n",
       "    <tr>\n",
       "      <th>4</th>\n",
       "      <td>1</td>\n",
       "      <td>2019-06-01 0:03</td>\n",
       "      <td>2019-06-01 0:15</td>\n",
       "      <td>1</td>\n",
       "      <td>1.70</td>\n",
       "      <td>1</td>\n",
       "      <td>113</td>\n",
       "      <td>148</td>\n",
       "      <td>1</td>\n",
       "      <td>9.5</td>\n",
       "      <td>3.0</td>\n",
       "      <td>0.5</td>\n",
       "      <td>2.65</td>\n",
       "      <td>0.0</td>\n",
       "      <td>0.3</td>\n",
       "      <td>15.95</td>\n",
       "      <td>2.5</td>\n",
       "    </tr>\n",
       "    <tr>\n",
       "      <th>5</th>\n",
       "      <td>1</td>\n",
       "      <td>2019-06-01 0:28</td>\n",
       "      <td>2019-06-01 0:39</td>\n",
       "      <td>2</td>\n",
       "      <td>1.60</td>\n",
       "      <td>1</td>\n",
       "      <td>79</td>\n",
       "      <td>125</td>\n",
       "      <td>1</td>\n",
       "      <td>9.5</td>\n",
       "      <td>3.0</td>\n",
       "      <td>0.5</td>\n",
       "      <td>1.00</td>\n",
       "      <td>0.0</td>\n",
       "      <td>0.3</td>\n",
       "      <td>14.30</td>\n",
       "      <td>2.5</td>\n",
       "    </tr>\n",
       "    <tr>\n",
       "      <th>7</th>\n",
       "      <td>1</td>\n",
       "      <td>2019-06-01 0:54</td>\n",
       "      <td>2019-06-01 1:02</td>\n",
       "      <td>2</td>\n",
       "      <td>1.20</td>\n",
       "      <td>1</td>\n",
       "      <td>79</td>\n",
       "      <td>249</td>\n",
       "      <td>1</td>\n",
       "      <td>7.5</td>\n",
       "      <td>3.0</td>\n",
       "      <td>0.5</td>\n",
       "      <td>1.00</td>\n",
       "      <td>0.0</td>\n",
       "      <td>0.3</td>\n",
       "      <td>12.30</td>\n",
       "      <td>2.5</td>\n",
       "    </tr>\n",
       "    <tr>\n",
       "      <th>9</th>\n",
       "      <td>1</td>\n",
       "      <td>2019-06-01 0:29</td>\n",
       "      <td>2019-06-01 1:03</td>\n",
       "      <td>1</td>\n",
       "      <td>8.60</td>\n",
       "      <td>1</td>\n",
       "      <td>186</td>\n",
       "      <td>243</td>\n",
       "      <td>1</td>\n",
       "      <td>31.5</td>\n",
       "      <td>3.0</td>\n",
       "      <td>0.5</td>\n",
       "      <td>7.05</td>\n",
       "      <td>0.0</td>\n",
       "      <td>0.3</td>\n",
       "      <td>42.35</td>\n",
       "      <td>2.5</td>\n",
       "    </tr>\n",
       "    <tr>\n",
       "      <th>10</th>\n",
       "      <td>2</td>\n",
       "      <td>2019-06-01 0:01</td>\n",
       "      <td>2019-06-01 0:16</td>\n",
       "      <td>1</td>\n",
       "      <td>1.74</td>\n",
       "      <td>1</td>\n",
       "      <td>107</td>\n",
       "      <td>148</td>\n",
       "      <td>1</td>\n",
       "      <td>11.0</td>\n",
       "      <td>0.5</td>\n",
       "      <td>0.5</td>\n",
       "      <td>2.96</td>\n",
       "      <td>0.0</td>\n",
       "      <td>0.3</td>\n",
       "      <td>17.76</td>\n",
       "      <td>2.5</td>\n",
       "    </tr>\n",
       "  </tbody>\n",
       "</table>\n",
       "</div>"
      ],
      "text/plain": [
       "    VendorID tpep_pickup_datetime tpep_dropoff_datetime  passenger_count  \\\n",
       "4          1      2019-06-01 0:03       2019-06-01 0:15                1   \n",
       "5          1      2019-06-01 0:28       2019-06-01 0:39                2   \n",
       "7          1      2019-06-01 0:54       2019-06-01 1:02                2   \n",
       "9          1      2019-06-01 0:29       2019-06-01 1:03                1   \n",
       "10         2      2019-06-01 0:01       2019-06-01 0:16                1   \n",
       "\n",
       "    trip_distance  RatecodeID  PULocationID  DOLocationID  payment_type  \\\n",
       "4            1.70           1           113           148             1   \n",
       "5            1.60           1            79           125             1   \n",
       "7            1.20           1            79           249             1   \n",
       "9            8.60           1           186           243             1   \n",
       "10           1.74           1           107           148             1   \n",
       "\n",
       "    fare_amount  extra  mta_tax  tip_amount  tolls_amount  \\\n",
       "4           9.5    3.0      0.5        2.65           0.0   \n",
       "5           9.5    3.0      0.5        1.00           0.0   \n",
       "7           7.5    3.0      0.5        1.00           0.0   \n",
       "9          31.5    3.0      0.5        7.05           0.0   \n",
       "10         11.0    0.5      0.5        2.96           0.0   \n",
       "\n",
       "    improvement_surcharge  total_amount  congestion_surcharge  \n",
       "4                     0.3         15.95                   2.5  \n",
       "5                     0.3         14.30                   2.5  \n",
       "7                     0.3         12.30                   2.5  \n",
       "9                     0.3         42.35                   2.5  \n",
       "10                    0.3         17.76                   2.5  "
      ]
     },
     "execution_count": 195,
     "metadata": {},
     "output_type": "execute_result"
    }
   ],
   "source": [
    "df.head()"
   ]
  },
  {
   "cell_type": "code",
   "execution_count": 196,
   "id": "e1e89f69",
   "metadata": {},
   "outputs": [],
   "source": [
    "data = df.drop(['tip_amount'],axis=1)"
   ]
  },
  {
   "cell_type": "code",
   "execution_count": 197,
   "id": "a3e74029",
   "metadata": {},
   "outputs": [
    {
     "data": {
      "text/html": [
       "<div>\n",
       "<style scoped>\n",
       "    .dataframe tbody tr th:only-of-type {\n",
       "        vertical-align: middle;\n",
       "    }\n",
       "\n",
       "    .dataframe tbody tr th {\n",
       "        vertical-align: top;\n",
       "    }\n",
       "\n",
       "    .dataframe thead th {\n",
       "        text-align: right;\n",
       "    }\n",
       "</style>\n",
       "<table border=\"1\" class=\"dataframe\">\n",
       "  <thead>\n",
       "    <tr style=\"text-align: right;\">\n",
       "      <th></th>\n",
       "      <th>VendorID</th>\n",
       "      <th>tpep_pickup_datetime</th>\n",
       "      <th>tpep_dropoff_datetime</th>\n",
       "      <th>passenger_count</th>\n",
       "      <th>trip_distance</th>\n",
       "      <th>RatecodeID</th>\n",
       "      <th>PULocationID</th>\n",
       "      <th>DOLocationID</th>\n",
       "      <th>payment_type</th>\n",
       "      <th>fare_amount</th>\n",
       "      <th>extra</th>\n",
       "      <th>mta_tax</th>\n",
       "      <th>tolls_amount</th>\n",
       "      <th>improvement_surcharge</th>\n",
       "      <th>total_amount</th>\n",
       "      <th>congestion_surcharge</th>\n",
       "    </tr>\n",
       "  </thead>\n",
       "  <tbody>\n",
       "    <tr>\n",
       "      <th>4</th>\n",
       "      <td>1</td>\n",
       "      <td>2019-06-01 0:03</td>\n",
       "      <td>2019-06-01 0:15</td>\n",
       "      <td>1</td>\n",
       "      <td>1.70</td>\n",
       "      <td>1</td>\n",
       "      <td>113</td>\n",
       "      <td>148</td>\n",
       "      <td>1</td>\n",
       "      <td>9.5</td>\n",
       "      <td>3.0</td>\n",
       "      <td>0.5</td>\n",
       "      <td>0.0</td>\n",
       "      <td>0.3</td>\n",
       "      <td>15.95</td>\n",
       "      <td>2.5</td>\n",
       "    </tr>\n",
       "    <tr>\n",
       "      <th>5</th>\n",
       "      <td>1</td>\n",
       "      <td>2019-06-01 0:28</td>\n",
       "      <td>2019-06-01 0:39</td>\n",
       "      <td>2</td>\n",
       "      <td>1.60</td>\n",
       "      <td>1</td>\n",
       "      <td>79</td>\n",
       "      <td>125</td>\n",
       "      <td>1</td>\n",
       "      <td>9.5</td>\n",
       "      <td>3.0</td>\n",
       "      <td>0.5</td>\n",
       "      <td>0.0</td>\n",
       "      <td>0.3</td>\n",
       "      <td>14.30</td>\n",
       "      <td>2.5</td>\n",
       "    </tr>\n",
       "    <tr>\n",
       "      <th>7</th>\n",
       "      <td>1</td>\n",
       "      <td>2019-06-01 0:54</td>\n",
       "      <td>2019-06-01 1:02</td>\n",
       "      <td>2</td>\n",
       "      <td>1.20</td>\n",
       "      <td>1</td>\n",
       "      <td>79</td>\n",
       "      <td>249</td>\n",
       "      <td>1</td>\n",
       "      <td>7.5</td>\n",
       "      <td>3.0</td>\n",
       "      <td>0.5</td>\n",
       "      <td>0.0</td>\n",
       "      <td>0.3</td>\n",
       "      <td>12.30</td>\n",
       "      <td>2.5</td>\n",
       "    </tr>\n",
       "    <tr>\n",
       "      <th>9</th>\n",
       "      <td>1</td>\n",
       "      <td>2019-06-01 0:29</td>\n",
       "      <td>2019-06-01 1:03</td>\n",
       "      <td>1</td>\n",
       "      <td>8.60</td>\n",
       "      <td>1</td>\n",
       "      <td>186</td>\n",
       "      <td>243</td>\n",
       "      <td>1</td>\n",
       "      <td>31.5</td>\n",
       "      <td>3.0</td>\n",
       "      <td>0.5</td>\n",
       "      <td>0.0</td>\n",
       "      <td>0.3</td>\n",
       "      <td>42.35</td>\n",
       "      <td>2.5</td>\n",
       "    </tr>\n",
       "    <tr>\n",
       "      <th>10</th>\n",
       "      <td>2</td>\n",
       "      <td>2019-06-01 0:01</td>\n",
       "      <td>2019-06-01 0:16</td>\n",
       "      <td>1</td>\n",
       "      <td>1.74</td>\n",
       "      <td>1</td>\n",
       "      <td>107</td>\n",
       "      <td>148</td>\n",
       "      <td>1</td>\n",
       "      <td>11.0</td>\n",
       "      <td>0.5</td>\n",
       "      <td>0.5</td>\n",
       "      <td>0.0</td>\n",
       "      <td>0.3</td>\n",
       "      <td>17.76</td>\n",
       "      <td>2.5</td>\n",
       "    </tr>\n",
       "  </tbody>\n",
       "</table>\n",
       "</div>"
      ],
      "text/plain": [
       "    VendorID tpep_pickup_datetime tpep_dropoff_datetime  passenger_count  \\\n",
       "4          1      2019-06-01 0:03       2019-06-01 0:15                1   \n",
       "5          1      2019-06-01 0:28       2019-06-01 0:39                2   \n",
       "7          1      2019-06-01 0:54       2019-06-01 1:02                2   \n",
       "9          1      2019-06-01 0:29       2019-06-01 1:03                1   \n",
       "10         2      2019-06-01 0:01       2019-06-01 0:16                1   \n",
       "\n",
       "    trip_distance  RatecodeID  PULocationID  DOLocationID  payment_type  \\\n",
       "4            1.70           1           113           148             1   \n",
       "5            1.60           1            79           125             1   \n",
       "7            1.20           1            79           249             1   \n",
       "9            8.60           1           186           243             1   \n",
       "10           1.74           1           107           148             1   \n",
       "\n",
       "    fare_amount  extra  mta_tax  tolls_amount  improvement_surcharge  \\\n",
       "4           9.5    3.0      0.5           0.0                    0.3   \n",
       "5           9.5    3.0      0.5           0.0                    0.3   \n",
       "7           7.5    3.0      0.5           0.0                    0.3   \n",
       "9          31.5    3.0      0.5           0.0                    0.3   \n",
       "10         11.0    0.5      0.5           0.0                    0.3   \n",
       "\n",
       "    total_amount  congestion_surcharge  \n",
       "4          15.95                   2.5  \n",
       "5          14.30                   2.5  \n",
       "7          12.30                   2.5  \n",
       "9          42.35                   2.5  \n",
       "10         17.76                   2.5  "
      ]
     },
     "execution_count": 197,
     "metadata": {},
     "output_type": "execute_result"
    }
   ],
   "source": [
    "data.head()"
   ]
  },
  {
   "cell_type": "code",
   "execution_count": 198,
   "id": "63e86b5b",
   "metadata": {},
   "outputs": [],
   "source": [
    "data = df.drop(['total_amount'],axis=1)"
   ]
  },
  {
   "cell_type": "code",
   "execution_count": 199,
   "id": "6fd505da",
   "metadata": {},
   "outputs": [
    {
     "name": "stdout",
     "output_type": "stream",
     "text": [
      " There are  682480 observations in the data\n",
      " There are 16 variables in the data \n"
     ]
    }
   ],
   "source": [
    "print(\" There are  \"+ str(len(data))+\" observations in the data\")\n",
    "print(\" There are \"+ str(len(data.columns))+\" variables in the data \")"
   ]
  },
  {
   "cell_type": "code",
   "execution_count": 200,
   "id": "eb72b483",
   "metadata": {},
   "outputs": [],
   "source": [
    "import matplotlib.pyplot as plt"
   ]
  },
  {
   "cell_type": "code",
   "execution_count": 201,
   "id": "89a50410",
   "metadata": {},
   "outputs": [
    {
     "data": {
      "image/png": "[encoded data removed]",
      "text/plain": [
       "<Figure size 640x480 with 1 Axes>"
      ]
     },
     "metadata": {},
     "output_type": "display_data"
    }
   ],
   "source": [
    "# graphical interpretation of the data \n",
    "plt.hist(data.tip_amount.values ,16,histtype='bar' ,facecolor = 'g')\n",
    "plt.show()"
   ]
  },
  {
   "cell_type": "code",
   "execution_count": 202,
   "id": "1219ce6c",
   "metadata": {},
   "outputs": [
    {
     "name": "stdout",
     "output_type": "stream",
     "text": [
      " The minimum amount value  0.01\n",
      " The maximum amount value  91.0\n",
      " 90% of the trips have a tip amount less or equal than   5.89\n"
     ]
    }
   ],
   "source": [
    "# checking minimum and maximum and the values of tip amount for 90% data \n",
    "print(\" The minimum amount value \", np.min(data.tip_amount.values))\n",
    "print (\" The maximum amount value \",np.max(data.tip_amount.values))\n",
    "print(\" 90% of the trips have a tip amount less or equal than  \",np.percentile(data.tip_amount.values,90))"
   ]
  },
  {
   "cell_type": "code",
   "execution_count": 203,
   "id": "539d2398",
   "metadata": {},
   "outputs": [
    {
     "name": "stdout",
     "output_type": "stream",
     "text": [
      "3.2041840200445444\n"
     ]
    },
    {
     "data": {
      "text/html": [
       "<div>\n",
       "<style scoped>\n",
       "    .dataframe tbody tr th:only-of-type {\n",
       "        vertical-align: middle;\n",
       "    }\n",
       "\n",
       "    .dataframe tbody tr th {\n",
       "        vertical-align: top;\n",
       "    }\n",
       "\n",
       "    .dataframe thead th {\n",
       "        text-align: right;\n",
       "    }\n",
       "</style>\n",
       "<table border=\"1\" class=\"dataframe\">\n",
       "  <thead>\n",
       "    <tr style=\"text-align: right;\">\n",
       "      <th></th>\n",
       "      <th>VendorID</th>\n",
       "      <th>tpep_pickup_datetime</th>\n",
       "      <th>tpep_dropoff_datetime</th>\n",
       "      <th>passenger_count</th>\n",
       "      <th>trip_distance</th>\n",
       "      <th>RatecodeID</th>\n",
       "      <th>PULocationID</th>\n",
       "      <th>DOLocationID</th>\n",
       "      <th>payment_type</th>\n",
       "      <th>fare_amount</th>\n",
       "      <th>extra</th>\n",
       "      <th>mta_tax</th>\n",
       "      <th>tip_amount</th>\n",
       "      <th>tolls_amount</th>\n",
       "      <th>improvement_surcharge</th>\n",
       "      <th>congestion_surcharge</th>\n",
       "    </tr>\n",
       "  </thead>\n",
       "  <tbody>\n",
       "    <tr>\n",
       "      <th>4</th>\n",
       "      <td>1</td>\n",
       "      <td>2019-06-01 0:03</td>\n",
       "      <td>2019-06-01 0:15</td>\n",
       "      <td>1</td>\n",
       "      <td>1.70</td>\n",
       "      <td>1</td>\n",
       "      <td>113</td>\n",
       "      <td>148</td>\n",
       "      <td>1</td>\n",
       "      <td>9.5</td>\n",
       "      <td>3.0</td>\n",
       "      <td>0.5</td>\n",
       "      <td>2.65</td>\n",
       "      <td>0.0</td>\n",
       "      <td>0.3</td>\n",
       "      <td>2.5</td>\n",
       "    </tr>\n",
       "    <tr>\n",
       "      <th>5</th>\n",
       "      <td>1</td>\n",
       "      <td>2019-06-01 0:28</td>\n",
       "      <td>2019-06-01 0:39</td>\n",
       "      <td>2</td>\n",
       "      <td>1.60</td>\n",
       "      <td>1</td>\n",
       "      <td>79</td>\n",
       "      <td>125</td>\n",
       "      <td>1</td>\n",
       "      <td>9.5</td>\n",
       "      <td>3.0</td>\n",
       "      <td>0.5</td>\n",
       "      <td>1.00</td>\n",
       "      <td>0.0</td>\n",
       "      <td>0.3</td>\n",
       "      <td>2.5</td>\n",
       "    </tr>\n",
       "    <tr>\n",
       "      <th>7</th>\n",
       "      <td>1</td>\n",
       "      <td>2019-06-01 0:54</td>\n",
       "      <td>2019-06-01 1:02</td>\n",
       "      <td>2</td>\n",
       "      <td>1.20</td>\n",
       "      <td>1</td>\n",
       "      <td>79</td>\n",
       "      <td>249</td>\n",
       "      <td>1</td>\n",
       "      <td>7.5</td>\n",
       "      <td>3.0</td>\n",
       "      <td>0.5</td>\n",
       "      <td>1.00</td>\n",
       "      <td>0.0</td>\n",
       "      <td>0.3</td>\n",
       "      <td>2.5</td>\n",
       "    </tr>\n",
       "    <tr>\n",
       "      <th>9</th>\n",
       "      <td>1</td>\n",
       "      <td>2019-06-01 0:29</td>\n",
       "      <td>2019-06-01 1:03</td>\n",
       "      <td>1</td>\n",
       "      <td>8.60</td>\n",
       "      <td>1</td>\n",
       "      <td>186</td>\n",
       "      <td>243</td>\n",
       "      <td>1</td>\n",
       "      <td>31.5</td>\n",
       "      <td>3.0</td>\n",
       "      <td>0.5</td>\n",
       "      <td>7.05</td>\n",
       "      <td>0.0</td>\n",
       "      <td>0.3</td>\n",
       "      <td>2.5</td>\n",
       "    </tr>\n",
       "    <tr>\n",
       "      <th>10</th>\n",
       "      <td>2</td>\n",
       "      <td>2019-06-01 0:01</td>\n",
       "      <td>2019-06-01 0:16</td>\n",
       "      <td>1</td>\n",
       "      <td>1.74</td>\n",
       "      <td>1</td>\n",
       "      <td>107</td>\n",
       "      <td>148</td>\n",
       "      <td>1</td>\n",
       "      <td>11.0</td>\n",
       "      <td>0.5</td>\n",
       "      <td>0.5</td>\n",
       "      <td>2.96</td>\n",
       "      <td>0.0</td>\n",
       "      <td>0.3</td>\n",
       "      <td>2.5</td>\n",
       "    </tr>\n",
       "  </tbody>\n",
       "</table>\n",
       "</div>"
      ],
      "text/plain": [
       "    VendorID tpep_pickup_datetime tpep_dropoff_datetime  passenger_count  \\\n",
       "4          1      2019-06-01 0:03       2019-06-01 0:15                1   \n",
       "5          1      2019-06-01 0:28       2019-06-01 0:39                2   \n",
       "7          1      2019-06-01 0:54       2019-06-01 1:02                2   \n",
       "9          1      2019-06-01 0:29       2019-06-01 1:03                1   \n",
       "10         2      2019-06-01 0:01       2019-06-01 0:16                1   \n",
       "\n",
       "    trip_distance  RatecodeID  PULocationID  DOLocationID  payment_type  \\\n",
       "4            1.70           1           113           148             1   \n",
       "5            1.60           1            79           125             1   \n",
       "7            1.20           1            79           249             1   \n",
       "9            8.60           1           186           243             1   \n",
       "10           1.74           1           107           148             1   \n",
       "\n",
       "    fare_amount  extra  mta_tax  tip_amount  tolls_amount  \\\n",
       "4           9.5    3.0      0.5        2.65           0.0   \n",
       "5           9.5    3.0      0.5        1.00           0.0   \n",
       "7           7.5    3.0      0.5        1.00           0.0   \n",
       "9          31.5    3.0      0.5        7.05           0.0   \n",
       "10         11.0    0.5      0.5        2.96           0.0   \n",
       "\n",
       "    improvement_surcharge  congestion_surcharge  \n",
       "4                     0.3                   2.5  \n",
       "5                     0.3                   2.5  \n",
       "7                     0.3                   2.5  \n",
       "9                     0.3                   2.5  \n",
       "10                    0.3                   2.5  "
      ]
     },
     "execution_count": 203,
     "metadata": {},
     "output_type": "execute_result"
    }
   ],
   "source": [
    "print(np.mean(data.tip_amount.values))\n",
    "data.head()"
   ]
  },
  {
   "cell_type": "markdown",
   "id": "40bca671",
   "metadata": {},
   "source": [
    " Data preprocessing"
   ]
  },
  {
   "cell_type": "markdown",
   "id": "220e74a2",
   "metadata": {},
   "source": [
    " In this subsection we prepare data for training by extracting the useful features"
   ]
  },
  {
   "cell_type": "code",
   "execution_count": 204,
   "id": "90911a2b",
   "metadata": {},
   "outputs": [],
   "source": [
    "data['tpep_pickup_datetime']=pd.to_datetime(data['tpep_pickup_datetime'])\n",
    "data['tpep_dropoff_datetime']=pd.to_datetime(data['tpep_dropoff_datetime'])\n",
    "# extrcting pickup and dropoff hour\n",
    "data['pickup_hour']= data['tpep_pickup_datetime'].dt.hour\n",
    "data['dropoff_hour']=data['tpep_dropoff_datetime'].dt.hour\n",
    "\n",
    "#extracting pickup and dropoff day of week\n",
    "data['pickup_day']=data['tpep_pickup_datetime'].dt.weekday\n",
    "data['dropoff_day']=data['tpep_dropoff_datetime'].dt.weekday\n",
    "\n",
    "\n",
    "# computing the trip time \n",
    "data['trip_time']=(data['tpep_dropoff_datetime']-data['tpep_pickup_datetime']).astype('timedelta64[m]')\n"
   ]
  },
  {
   "cell_type": "code",
   "execution_count": 205,
   "id": "a4b1da9d",
   "metadata": {},
   "outputs": [],
   "source": [
    "data= data.drop(['tpep_pickup_datetime','tpep_dropoff_datetime'],axis=1)"
   ]
  },
  {
   "cell_type": "code",
   "execution_count": 206,
   "id": "9a4b6988",
   "metadata": {},
   "outputs": [],
   "source": [
    "get_dummy_col = [\"VendorID\",\"RatecodeID\",\"PULocationID\", \"DOLocationID\",\"payment_type\", \"pickup_hour\", \"dropoff_hour\", \"pickup_day\", \"dropoff_day\"]\n",
    "proc_data = pd.get_dummies(data, columns = get_dummy_col)"
   ]
  },
  {
   "cell_type": "code",
   "execution_count": 207,
   "id": "d6b0f1dd",
   "metadata": {},
   "outputs": [
    {
     "data": {
      "text/html": [
       "<div>\n",
       "<style scoped>\n",
       "    .dataframe tbody tr th:only-of-type {\n",
       "        vertical-align: middle;\n",
       "    }\n",
       "\n",
       "    .dataframe tbody tr th {\n",
       "        vertical-align: top;\n",
       "    }\n",
       "\n",
       "    .dataframe thead th {\n",
       "        text-align: right;\n",
       "    }\n",
       "</style>\n",
       "<table border=\"1\" class=\"dataframe\">\n",
       "  <thead>\n",
       "    <tr style=\"text-align: right;\">\n",
       "      <th></th>\n",
       "      <th>passenger_count</th>\n",
       "      <th>trip_distance</th>\n",
       "      <th>fare_amount</th>\n",
       "      <th>extra</th>\n",
       "      <th>mta_tax</th>\n",
       "      <th>tip_amount</th>\n",
       "      <th>tolls_amount</th>\n",
       "      <th>improvement_surcharge</th>\n",
       "      <th>congestion_surcharge</th>\n",
       "      <th>trip_time</th>\n",
       "      <th>...</th>\n",
       "      <th>pickup_day_4</th>\n",
       "      <th>pickup_day_5</th>\n",
       "      <th>pickup_day_6</th>\n",
       "      <th>dropoff_day_0</th>\n",
       "      <th>dropoff_day_1</th>\n",
       "      <th>dropoff_day_2</th>\n",
       "      <th>dropoff_day_3</th>\n",
       "      <th>dropoff_day_4</th>\n",
       "      <th>dropoff_day_5</th>\n",
       "      <th>dropoff_day_6</th>\n",
       "    </tr>\n",
       "  </thead>\n",
       "  <tbody>\n",
       "    <tr>\n",
       "      <th>4</th>\n",
       "      <td>1</td>\n",
       "      <td>1.70</td>\n",
       "      <td>9.5</td>\n",
       "      <td>3.0</td>\n",
       "      <td>0.5</td>\n",
       "      <td>2.65</td>\n",
       "      <td>0.0</td>\n",
       "      <td>0.3</td>\n",
       "      <td>2.5</td>\n",
       "      <td>12.0</td>\n",
       "      <td>...</td>\n",
       "      <td>0</td>\n",
       "      <td>1</td>\n",
       "      <td>0</td>\n",
       "      <td>0</td>\n",
       "      <td>0</td>\n",
       "      <td>0</td>\n",
       "      <td>0</td>\n",
       "      <td>0</td>\n",
       "      <td>1</td>\n",
       "      <td>0</td>\n",
       "    </tr>\n",
       "    <tr>\n",
       "      <th>5</th>\n",
       "      <td>2</td>\n",
       "      <td>1.60</td>\n",
       "      <td>9.5</td>\n",
       "      <td>3.0</td>\n",
       "      <td>0.5</td>\n",
       "      <td>1.00</td>\n",
       "      <td>0.0</td>\n",
       "      <td>0.3</td>\n",
       "      <td>2.5</td>\n",
       "      <td>11.0</td>\n",
       "      <td>...</td>\n",
       "      <td>0</td>\n",
       "      <td>1</td>\n",
       "      <td>0</td>\n",
       "      <td>0</td>\n",
       "      <td>0</td>\n",
       "      <td>0</td>\n",
       "      <td>0</td>\n",
       "      <td>0</td>\n",
       "      <td>1</td>\n",
       "      <td>0</td>\n",
       "    </tr>\n",
       "    <tr>\n",
       "      <th>7</th>\n",
       "      <td>2</td>\n",
       "      <td>1.20</td>\n",
       "      <td>7.5</td>\n",
       "      <td>3.0</td>\n",
       "      <td>0.5</td>\n",
       "      <td>1.00</td>\n",
       "      <td>0.0</td>\n",
       "      <td>0.3</td>\n",
       "      <td>2.5</td>\n",
       "      <td>8.0</td>\n",
       "      <td>...</td>\n",
       "      <td>0</td>\n",
       "      <td>1</td>\n",
       "      <td>0</td>\n",
       "      <td>0</td>\n",
       "      <td>0</td>\n",
       "      <td>0</td>\n",
       "      <td>0</td>\n",
       "      <td>0</td>\n",
       "      <td>1</td>\n",
       "      <td>0</td>\n",
       "    </tr>\n",
       "    <tr>\n",
       "      <th>9</th>\n",
       "      <td>1</td>\n",
       "      <td>8.60</td>\n",
       "      <td>31.5</td>\n",
       "      <td>3.0</td>\n",
       "      <td>0.5</td>\n",
       "      <td>7.05</td>\n",
       "      <td>0.0</td>\n",
       "      <td>0.3</td>\n",
       "      <td>2.5</td>\n",
       "      <td>34.0</td>\n",
       "      <td>...</td>\n",
       "      <td>0</td>\n",
       "      <td>1</td>\n",
       "      <td>0</td>\n",
       "      <td>0</td>\n",
       "      <td>0</td>\n",
       "      <td>0</td>\n",
       "      <td>0</td>\n",
       "      <td>0</td>\n",
       "      <td>1</td>\n",
       "      <td>0</td>\n",
       "    </tr>\n",
       "    <tr>\n",
       "      <th>10</th>\n",
       "      <td>1</td>\n",
       "      <td>1.74</td>\n",
       "      <td>11.0</td>\n",
       "      <td>0.5</td>\n",
       "      <td>0.5</td>\n",
       "      <td>2.96</td>\n",
       "      <td>0.0</td>\n",
       "      <td>0.3</td>\n",
       "      <td>2.5</td>\n",
       "      <td>15.0</td>\n",
       "      <td>...</td>\n",
       "      <td>0</td>\n",
       "      <td>1</td>\n",
       "      <td>0</td>\n",
       "      <td>0</td>\n",
       "      <td>0</td>\n",
       "      <td>0</td>\n",
       "      <td>0</td>\n",
       "      <td>0</td>\n",
       "      <td>1</td>\n",
       "      <td>0</td>\n",
       "    </tr>\n",
       "  </tbody>\n",
       "</table>\n",
       "<p>5 rows × 562 columns</p>\n",
       "</div>"
      ],
      "text/plain": [
       "    passenger_count  trip_distance  fare_amount  extra  mta_tax  tip_amount  \\\n",
       "4                 1           1.70          9.5    3.0      0.5        2.65   \n",
       "5                 2           1.60          9.5    3.0      0.5        1.00   \n",
       "7                 2           1.20          7.5    3.0      0.5        1.00   \n",
       "9                 1           8.60         31.5    3.0      0.5        7.05   \n",
       "10                1           1.74         11.0    0.5      0.5        2.96   \n",
       "\n",
       "    tolls_amount  improvement_surcharge  congestion_surcharge  trip_time  ...  \\\n",
       "4            0.0                    0.3                   2.5       12.0  ...   \n",
       "5            0.0                    0.3                   2.5       11.0  ...   \n",
       "7            0.0                    0.3                   2.5        8.0  ...   \n",
       "9            0.0                    0.3                   2.5       34.0  ...   \n",
       "10           0.0                    0.3                   2.5       15.0  ...   \n",
       "\n",
       "    pickup_day_4  pickup_day_5  pickup_day_6  dropoff_day_0  dropoff_day_1  \\\n",
       "4              0             1             0              0              0   \n",
       "5              0             1             0              0              0   \n",
       "7              0             1             0              0              0   \n",
       "9              0             1             0              0              0   \n",
       "10             0             1             0              0              0   \n",
       "\n",
       "    dropoff_day_2  dropoff_day_3  dropoff_day_4  dropoff_day_5  dropoff_day_6  \n",
       "4               0              0              0              1              0  \n",
       "5               0              0              0              1              0  \n",
       "7               0              0              0              1              0  \n",
       "9               0              0              0              1              0  \n",
       "10              0              0              0              1              0  \n",
       "\n",
       "[5 rows x 562 columns]"
      ]
     },
     "execution_count": 207,
     "metadata": {},
     "output_type": "execute_result"
    }
   ],
   "source": [
    "proc_data.head()"
   ]
  },
  {
   "cell_type": "code",
   "execution_count": 208,
   "id": "be7b342b",
   "metadata": {},
   "outputs": [
    {
     "data": {
      "text/plain": [
       "3996"
      ]
     },
     "execution_count": 208,
     "metadata": {},
     "output_type": "execute_result"
    }
   ],
   "source": [
    "del df\n",
    "del data\n",
    "gc.collect()"
   ]
  },
  {
   "cell_type": "code",
   "execution_count": 209,
   "id": "0f81d85b",
   "metadata": {},
   "outputs": [
    {
     "name": "stdout",
     "output_type": "stream",
     "text": [
      "<class 'pandas.core.frame.DataFrame'>\n",
      "Int64Index: 682480 entries, 4 to 999997\n",
      "Columns: 562 entries, passenger_count to dropoff_day_6\n",
      "dtypes: float64(9), int64(1), uint8(552)\n",
      "memory usage: 416.6 MB\n"
     ]
    }
   ],
   "source": [
    "proc_data.info()"
   ]
  },
  {
   "cell_type": "markdown",
   "id": "c83ab391",
   "metadata": {},
   "source": [
    "extract the labels of the dataframe"
   ]
  },
  {
   "cell_type": "code",
   "execution_count": 210,
   "id": "03139442",
   "metadata": {},
   "outputs": [],
   "source": [
    "y = proc_data[['tip_amount']].values\n",
    "\n",
    "# now we will drop the column of tip amount as it is required for test the model\n",
    "proc_data = proc_data.drop(['tip_amount'],axis=1)"
   ]
  },
  {
   "cell_type": "code",
   "execution_count": 211,
   "id": "5ba4e39e",
   "metadata": {},
   "outputs": [],
   "source": [
    "# now we will tarin our model using proc_data \n",
    "X= proc_data.values"
   ]
  },
  {
   "cell_type": "code",
   "execution_count": 212,
   "id": "edc4cc1f",
   "metadata": {},
   "outputs": [
    {
     "name": "stdout",
     "output_type": "stream",
     "text": [
      "X.shape= (682480, 561) y.shape= (682480, 1)\n"
     ]
    }
   ],
   "source": [
    "# Normalize the feature matrix \n",
    "#Normalization can be useful for handling outliers or extreme values in a dataset. By scaling the values to a specific range, \n",
    "#outliers are less likely to have a disproportionate impact on the analysis or modeling process.\n",
    "normalizer = Normalizer(norm='l1').fit(X)\n",
    "X = normalizer.transform(X)\n",
    "\n",
    "# print the shape of the features matrix and the labels vector\n",
    "print('X.shape=', X.shape, 'y.shape=', y.shape)"
   ]
  },
  {
   "cell_type": "code",
   "execution_count": 215,
   "id": "597b34ee",
   "metadata": {},
   "outputs": [
    {
     "name": "stdout",
     "output_type": "stream",
     "text": [
      "X_train.shape= (477736, 561) Y_train.shape= (477736, 1)\n",
      "X_test.shape= (204744, 561) Y_test.shape= (204744, 1)\n"
     ]
    }
   ],
   "source": [
    "X_train, X_test, y_train, y_test = train_test_split(X, y, test_size=0.3, random_state=42)\n",
    "print('X_train.shape=', X_train.shape, 'Y_train.shape=', y_train.shape)\n",
    "print('X_test.shape=', X_test.shape, 'Y_test.shape=', y_test.shape)"
   ]
  },
  {
   "cell_type": "code",
   "execution_count": 216,
   "id": "9c4cd3a6",
   "metadata": {},
   "outputs": [],
   "source": [
    "from sklearn.tree import DecisionTreeRegressor"
   ]
  },
  {
   "cell_type": "code",
   "execution_count": 217,
   "id": "921c57e3",
   "metadata": {},
   "outputs": [],
   "source": [
    "sklearn_dt = DecisionTreeRegressor(max_depth=8, random_state=35)"
   ]
  },
  {
   "cell_type": "code",
   "execution_count": 218,
   "id": "c918cc69",
   "metadata": {},
   "outputs": [
    {
     "name": "stdout",
     "output_type": "stream",
     "text": [
      "[Scikit-Learn] Training time (s):  51.24917\n"
     ]
    }
   ],
   "source": [
    "t0 = time.time()\n",
    "sklearn_dt.fit(X_train, y_train)\n",
    "sklearn_time = time.time()-t0\n",
    "print(\"[Scikit-Learn] Training time (s):  {0:.5f}\".format(sklearn_time))"
   ]
  },
  {
   "cell_type": "code",
   "execution_count": 219,
   "id": "a2830fb6",
   "metadata": {},
   "outputs": [],
   "source": [
    "from snapml import DecisionTreeRegressor"
   ]
  },
  {
   "cell_type": "code",
   "execution_count": 220,
   "id": "50f16ec1",
   "metadata": {},
   "outputs": [],
   "source": [
    "snapml_dt = DecisionTreeRegressor(max_depth=8, random_state=45, n_jobs=2)"
   ]
  },
  {
   "cell_type": "code",
   "execution_count": 221,
   "id": "2ebcaf5a",
   "metadata": {},
   "outputs": [
    {
     "name": "stdout",
     "output_type": "stream",
     "text": [
      "[Snap ML] Training time (s):  8.71305\n"
     ]
    }
   ],
   "source": [
    "t0 = time.time()\n",
    "snapml_dt.fit(X_train, y_train)\n",
    "snapml_time = time.time()-t0\n",
    "print(\"[Snap ML] Training time (s):  {0:.5f}\".format(snapml_time))"
   ]
  },
  {
   "cell_type": "code",
   "execution_count": 222,
   "id": "787aceba",
   "metadata": {},
   "outputs": [
    {
     "name": "stdout",
     "output_type": "stream",
     "text": [
      "[Decision Tree Regressor] Snap ML vs. Scikit-Learn speedup : 5.88x \n"
     ]
    }
   ],
   "source": [
    "training_speedup = sklearn_time/snapml_time\n",
    "print('[Decision Tree Regressor] Snap ML vs. Scikit-Learn speedup : {0:.2f}x '.format(training_speedup))"
   ]
  },
  {
   "cell_type": "code",
   "execution_count": 223,
   "id": "2f9d4b56",
   "metadata": {},
   "outputs": [],
   "source": [
    "sklearn_pred = sklearn_dt.predict(X_test)"
   ]
  },
  {
   "cell_type": "code",
   "execution_count": 224,
   "id": "3c84f602",
   "metadata": {},
   "outputs": [],
   "source": [
    "snapml_pred = snapml_dt.predict(X_test)"
   ]
  },
  {
   "cell_type": "code",
   "execution_count": 225,
   "id": "ba2a2ff0",
   "metadata": {},
   "outputs": [
    {
     "name": "stdout",
     "output_type": "stream",
     "text": [
      "[Snap ML] MSE score : 1.713\n"
     ]
    }
   ],
   "source": [
    "snapml_mse = mean_squared_error(y_test, snapml_pred)\n",
    "print('[Snap ML] MSE score : {0:.3f}'.format(snapml_mse))"
   ]
  }
 ],
 "metadata": {
  "kernelspec": {
   "display_name": "Python 3 (ipykernel)",
   "language": "python",
   "name": "python3"
  },
  "language_info": {
   "codemirror_mode": {
    "name": "ipython",
    "version": 3
   },
   "file_extension": ".py",
   "mimetype": "text/x-python",
   "name": "python",
   "nbconvert_exporter": "python",
   "pygments_lexer": "ipython3",
   "version": "3.10.9"
  }
 },
 "nbformat": 4,
 "nbformat_minor": 5
}
